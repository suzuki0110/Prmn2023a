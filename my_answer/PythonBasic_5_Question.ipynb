{
  "nbformat": 4,
  "nbformat_minor": 0,
  "metadata": {
    "colab": {
      "provenance": [],
      "include_colab_link": true
    },
    "kernelspec": {
      "name": "python3",
      "display_name": "Python 3"
    },
    "language_info": {
      "name": "python"
    }
  },
  "cells": [
    {
      "cell_type": "markdown",
      "metadata": {
        "id": "view-in-github",
        "colab_type": "text"
      },
      "source": [
        "<a href=\"https://colab.research.google.com/github/suzuki0110/Prmn2023a/blob/main/my_answer/PythonBasic_5_Question.ipynb\" target=\"_parent\"><img src=\"https://colab.research.google.com/assets/colab-badge.svg\" alt=\"Open In Colab\"/></a>"
      ]
    },
    {
      "cell_type": "markdown",
      "source": [
        "<a href=\"https://colab.research.google.com/github/kiryu-3/Prmn2023/blob/main/Python/Python_Basic/question/PythonBasic_5_Question.ipynb\" target=\"_parent\"><img src=\"https://colab.research.google.com/assets/colab-badge.svg\" alt=\"Open In Colab\"/></a>"
      ],
      "metadata": {
        "id": "TA5kKi-LY1xg"
      }
    },
    {
      "cell_type": "markdown",
      "source": [
        "# 第5章 課題"
      ],
      "metadata": {
        "id": "r-kcfL2yEU8b"
      }
    },
    {
      "cell_type": "markdown",
      "source": [
        "## 課題1"
      ],
      "metadata": {
        "id": "RWo2DmBs_2c4"
      }
    },
    {
      "cell_type": "markdown",
      "source": [
        "1桁の自然数を乱数を使って5つ格納した2つのリストを作ってください。\n",
        "この時、一つのリスト内で5つの値が重複しないようにしてください\n",
        "\n",
        "その後、そのリストから重複する要素を削除した新しいリストと、\n",
        "共通の要素を持つ新しいリストを出力してください"
      ],
      "metadata": {
        "id": "QRNvqmTgE8Ww"
      }
    },
    {
      "cell_type": "markdown",
      "source": [
        "＜実行結果例＞\n",
        "``` py\n",
        "1つ目のリスト：[1, 2, 3, 4, 5]\n",
        "2つ目のリスト：[1, 3, 5, 7, 9]\n",
        "重複削除リスト：[1, 2, 3, 4, 5, 7, 9]\n",
        "共通要素リスト：[1, 3, 5]\n",
        "```"
      ],
      "metadata": {
        "id": "Goi4CqGxFOpn"
      }
    },
    {
      "cell_type": "markdown",
      "source": [
        "＜ヒント＞ set関数を用いても用いなくても答えは出せます。"
      ],
      "metadata": {
        "id": "iEOFeFjqkkyS"
      }
    },
    {
      "cell_type": "code",
      "source": [
        "from typing import KeysView\n",
        "# 入力用\n",
        "import random\n",
        "\n",
        "list1 = []\n",
        "list2 = []\n",
        "\n",
        "while len(list1) < 5:\n",
        "  n = random.randint(0,9)\n",
        "  if not n in list1:\n",
        "    list1.append(n)\n",
        "\n",
        "while len(list2) < 5:\n",
        "  n = random.randint(0,9)\n",
        "  if not n in list2:\n",
        "    list2.append(n)\n",
        "\n",
        "print('1つ目のリスト：',list1)\n",
        "print('2つ目のリスト：',list2)\n",
        "\n",
        "list3 = list(set(list1 + list2))\n",
        "print('重複削除リスト：',list3)\n",
        "\n",
        "list4 = list(set(list1) & set(list2))\n",
        "print('共通要素リスト：',list4)\n"
      ],
      "metadata": {
        "id": "pQdhCOALMGWj",
        "colab": {
          "base_uri": "https://localhost:8080/"
        },
        "outputId": "5c0d2d6a-8451-42e1-93f3-fac324001245"
      },
      "execution_count": null,
      "outputs": [
        {
          "output_type": "stream",
          "name": "stdout",
          "text": [
            "1つ目のリスト： [7, 5, 9, 1, 4]\n",
            "2つ目のリスト： [6, 5, 2, 7, 3]\n",
            "重複削除リスト： [1, 2, 3, 4, 5, 6, 7, 9]\n",
            "共通要素リスト： [5, 7]\n"
          ]
        }
      ]
    },
    {
      "cell_type": "markdown",
      "source": [
        "## 課題2"
      ],
      "metadata": {
        "id": "-qZw_n3X8xrW"
      }
    },
    {
      "cell_type": "markdown",
      "source": [
        "共通のキーを持つ辞書を要素とするリストから、特定のキーの値のリストを取得してみます。"
      ],
      "metadata": {
        "id": "vxwATeobQf_U"
      }
    },
    {
      "cell_type": "markdown",
      "source": [
        "以下のリストから、都道府県コード・都道府県・県庁所在地それぞれのリストを作成してください\n",
        "\n",
        "キーが存在しないところがある点に注意してください"
      ],
      "metadata": {
        "id": "tGPa1uU6Qs2c"
      }
    },
    {
      "cell_type": "code",
      "source": [
        "todohuken_data = [{\"コード\": 24, \"都道府県\": \"三重\", \"県庁所在地\": \"津\"},\n",
        "                  {\"コード\": 25, \"都道府県\": \"滋賀\", \"県庁所在地\": \"大津\"},\n",
        "                  {\"コード\": 31, \"都道府県\": \"鳥取\"},\n",
        "                  {\"コード\": 32, \"都道府県\": \"島根\", \"県庁所在地\": \"松江\"},\n",
        "                  {\"コード\": 37, \"都道府県\": \"香川\", \"県庁所在地\": \"高松\"},\n",
        "                  {\"コード\": 38, \"都道府県\": \"愛媛\", \"県庁所在地\": \"松山\"},]"
      ],
      "metadata": {
        "id": "8ZdyRWbERGAY"
      },
      "execution_count": null,
      "outputs": []
    },
    {
      "cell_type": "markdown",
      "source": [
        "＜出力結果例＞\n",
        "``` py\n",
        "[24, 25, 31, 32, 37, 38]\n",
        "['三重', '滋賀', '鳥取', '島根', '香川', '愛媛']\n",
        "['津', '大津', None, '松江', '高松', '松山']\n",
        "```"
      ],
      "metadata": {
        "id": "dQ2n3OMSUXh2"
      }
    },
    {
      "cell_type": "code",
      "source": [
        "# 入力用\n",
        "\n",
        "list1 = [d.get(\"コード\") for d in todohuken_data]\n",
        "list2 = [d.get(\"都道府県\") for d in todohuken_data]\n",
        "list3 = [d.get(\"県庁所在地\") for d in todohuken_data]\n",
        "print(list1)\n",
        "print(list2)\n",
        "print(list3)"
      ],
      "metadata": {
        "id": "duwCERgQUify",
        "colab": {
          "base_uri": "https://localhost:8080/"
        },
        "outputId": "61827ca7-607e-4ef5-dda9-034d8b306e5b"
      },
      "execution_count": null,
      "outputs": [
        {
          "output_type": "stream",
          "name": "stdout",
          "text": [
            "[24, 25, 31, 32, 37, 38]\n",
            "['三重', '滋賀', '鳥取', '島根', '香川', '愛媛']\n",
            "['津', '大津', None, '松江', '高松', '松山']\n"
          ]
        }
      ]
    },
    {
      "cell_type": "markdown",
      "source": [
        "## 課題3"
      ],
      "metadata": {
        "id": "1S8kadYgq_gV"
      }
    },
    {
      "cell_type": "markdown",
      "source": [
        "ある文字列が与えられた場合、文字列内の各文字の出現回数をディクショナリの形で返してください\n",
        "\n",
        "大文字と小文字は区別してください\n",
        "また、出力時はアルファベット順にソートした状態にしてください"
      ],
      "metadata": {
        "id": "OdSKG7k9rA7V"
      }
    },
    {
      "cell_type": "markdown",
      "source": [
        "＜実行結果例＞　「Hello, World!」の各文字のカウント\n",
        "``` py\n",
        "{'H': 1, 'W': 1, 'd': 1, 'e': 1, 'l': 3, 'o': 2, 'r': 1}\n",
        "```"
      ],
      "metadata": {
        "id": "p0suMufQuEzI"
      }
    },
    {
      "cell_type": "code",
      "source": [
        "# 入力用\n",
        "\n",
        "string = input()\n",
        "\n",
        "# アルファベット以外の文字を削除 最初に実行してください\n",
        "string = ''.join(c for c in string if c.isalpha())\n",
        "print(string)\n",
        "\n",
        "dic = {}\n",
        "for i in string:\n",
        "  dic[i] = string.count(i)\n",
        "\n",
        "\n",
        "print(dic)\n"
      ],
      "metadata": {
        "id": "bHv50oDhrdzN",
        "colab": {
          "base_uri": "https://localhost:8080/"
        },
        "outputId": "7415dddb-77a7-4c48-d330-9c5ee3b4d5c9"
      },
      "execution_count": null,
      "outputs": [
        {
          "output_type": "stream",
          "name": "stdout",
          "text": [
            "rerggres\n",
            "rerggres\n",
            "{'r': 3, 'e': 2, 'g': 2, 's': 1}\n"
          ]
        }
      ]
    },
    {
      "cell_type": "markdown",
      "source": [
        "## 課題4"
      ],
      "metadata": {
        "id": "W573lh39MOlj"
      }
    },
    {
      "cell_type": "markdown",
      "source": [
        "ある大学の名前と年齢が、次のような形式で格納されたディクショナリ `university_dic` があります。"
      ],
      "metadata": {
        "id": "sSIMKY-aNcIx"
      }
    },
    {
      "cell_type": "code",
      "source": [
        "university_dic = {\n",
        "    \"Chitose\" : 25,\n",
        "    \"Hokudai\" : 105,\n",
        "    \"Muroran\" : 74,\n",
        "    \"Hakodate\": 23,\n",
        "}"
      ],
      "metadata": {
        "id": "v-wGyWuKK3wl"
      },
      "execution_count": null,
      "outputs": []
    },
    {
      "cell_type": "markdown",
      "source": [
        "このリストを、年齢順にソートして、新たなディクショナリとして出力してください"
      ],
      "metadata": {
        "id": "XIxDf9QgO1iH"
      }
    },
    {
      "cell_type": "markdown",
      "source": [
        "＜実行結果＞\n",
        "``` py\n",
        "{'Hakodate': 23, 'Chitose': 25, 'Muroran': 74, 'Hokudai': 105}\n",
        "```"
      ],
      "metadata": {
        "id": "0Z2-_1dAQENU"
      }
    },
    {
      "cell_type": "code",
      "source": [
        "# 入力用\n",
        "#lambda：valueでソートする場合、\n",
        "#ラムダ式（その場に関数定義を記述する）やユーザー定義関数を使用してソートの条件指定\n",
        "\n",
        "new = sorted(university_dic.items(),key = lambda x:x[1])\n",
        "new = dict(new)\n",
        "print(new)"
      ],
      "metadata": {
        "id": "ficNVfkgR5Kv",
        "colab": {
          "base_uri": "https://localhost:8080/"
        },
        "outputId": "1fd06594-c5d2-4a85-cbc4-3ded1e0fab67"
      },
      "execution_count": null,
      "outputs": [
        {
          "output_type": "stream",
          "name": "stdout",
          "text": [
            "{'Hakodate': 23, 'Chitose': 25, 'Muroran': 74, 'Hokudai': 105}\n"
          ]
        }
      ]
    },
    {
      "cell_type": "markdown",
      "source": [
        "## 課題5"
      ],
      "metadata": {
        "id": "QijnXk7UWAVC"
      }
    },
    {
      "cell_type": "markdown",
      "source": [
        "**FizzBuzz（フィズ・バズ）問題**という問題について解いていきます。\n",
        "\n",
        "もともとは、英語圏で長距離ドライブ中や飲み会の時に行われる言葉遊びです。"
      ],
      "metadata": {
        "id": "m7F47Q1mWCA6"
      }
    },
    {
      "cell_type": "markdown",
      "source": [
        "以下のような問題になります。\n",
        "\n",
        "1～Nまでの整数を順に出力しなさい。ただし、例外として以下のルールを守ること。\n",
        "\n",
        "* 3で割り切れる数字の場合はFizzを出力\n",
        "* 5で割り切れる数字の場合はBuzzを出力\n",
        "* 7で割り切れる数字の場合はJazzを出力\n",
        "* 複数条件が当てはまる場合は組み合わせて出力（ \"FizzBuzz\", \"FizzJazz\", \"BuzzJazz\" など）"
      ],
      "metadata": {
        "id": "fArw0VcNWgwZ"
      }
    },
    {
      "cell_type": "markdown",
      "source": [
        "ここでは N=100として、まずは一つのリストに\n",
        "\"Fizz\" か \"Buzz\" か \"Jazz\" か \"組み合わさったもの\" か \"others\" を格納してください。\n",
        "\n",
        "その後、それぞれの要素の数をカウントし、ディクショナリの形で出力してください。"
      ],
      "metadata": {
        "id": "SYqkpYstWm7Z"
      }
    },
    {
      "cell_type": "markdown",
      "source": [
        "＜実行結果例＞\n",
        "``` py\n",
        "{'Fizz': 23, 'Buzz': 12, 'Jazz': 8, 'FizzBuzz': 6, 'FizzJazz': 4, 'BuzzJazz': 2, 'others': 45}\n",
        "```"
      ],
      "metadata": {
        "id": "OqLuJTcWYzFt"
      }
    },
    {
      "cell_type": "code",
      "source": [
        "from collections import Counter\n",
        "from os import cpu_count\n",
        "# 入力用\n",
        "\n",
        "number = []\n",
        "n = int(input())\n",
        "\n",
        "for i in range(1,n):\n",
        "  if i%35 == 0:\n",
        "    print('BuzzJazz')\n",
        "    number.append('BuzzJazz')\n",
        "  elif i%21 == 0:\n",
        "    print('FizzJazz')\n",
        "    number.append('FizzJazz')\n",
        "  elif i%15 == 0:\n",
        "    print('FizzBuzz')\n",
        "    number.append('FizzBuzz')\n",
        "  elif i%3 == 0:\n",
        "    print('Fizz')\n",
        "    number.append('Fizz')\n",
        "  elif i%5 == 0:\n",
        "    print('Buzz')\n",
        "    number.append('Buzz')\n",
        "  elif i%7 == 0:\n",
        "    print('Jazz')\n",
        "    number.append('Jazz')\n",
        "\n",
        "  else:\n",
        "    print(i)\n",
        "    number.append('others')\n",
        "\n",
        "d = {'FizzJazz':number.count('FizzJazz'),'BuzzJazz':number.count('BuzzJazz'),'FizzBuzz':number.count('FizzBuzz'),'Fizz':number.count('Fizz'),'Buzz':number.count('Buzz'),'Jazz':number.count('Jazz'),'others':number.count('others')}\n",
        "print(d)\n",
        "\n"
      ],
      "metadata": {
        "id": "5kEDaVLmaEpb",
        "colab": {
          "base_uri": "https://localhost:8080/"
        },
        "outputId": "d15858f9-3a0a-4c56-faa7-7a6bc15da4e0"
      },
      "execution_count": null,
      "outputs": [
        {
          "output_type": "stream",
          "name": "stdout",
          "text": [
            "46\n",
            "1\n",
            "2\n",
            "Fizz\n",
            "4\n",
            "Buzz\n",
            "Fizz\n",
            "Jazz\n",
            "8\n",
            "Fizz\n",
            "Buzz\n",
            "11\n",
            "Fizz\n",
            "13\n",
            "Jazz\n",
            "FizzBuzz\n",
            "16\n",
            "17\n",
            "Fizz\n",
            "19\n",
            "Buzz\n",
            "FizzJazz\n",
            "22\n",
            "23\n",
            "Fizz\n",
            "Buzz\n",
            "26\n",
            "Fizz\n",
            "Jazz\n",
            "29\n",
            "FizzBuzz\n",
            "31\n",
            "32\n",
            "Fizz\n",
            "34\n",
            "BuzzJazz\n",
            "Fizz\n",
            "37\n",
            "38\n",
            "Fizz\n",
            "Buzz\n",
            "41\n",
            "FizzJazz\n",
            "43\n",
            "44\n",
            "FizzBuzz\n",
            "{'FizzJazz': 2, 'BuzzJazz': 1, 'FizzBuzz': 3, 'Fizz': 10, 'Buzz': 5, 'Jazz': 3, 'others': 21}\n"
          ]
        }
      ]
    }
  ]
}