{
  "nbformat": 4,
  "nbformat_minor": 0,
  "metadata": {
    "colab": {
      "provenance": [],
      "include_colab_link": true
    },
    "kernelspec": {
      "name": "python3",
      "display_name": "Python 3"
    },
    "language_info": {
      "name": "python"
    }
  },
  "cells": [
    {
      "cell_type": "markdown",
      "metadata": {
        "id": "view-in-github",
        "colab_type": "text"
      },
      "source": [
        "<a href=\"https://colab.research.google.com/github/suzuki0110/Prmn2023a/blob/main/PythonBasic_2_Question.ipynb\" target=\"_parent\"><img src=\"https://colab.research.google.com/assets/colab-badge.svg\" alt=\"Open In Colab\"/></a>"
      ]
    },
    {
      "cell_type": "markdown",
      "source": [
        "# 第2章 課題"
      ],
      "metadata": {
        "id": "C44SsXDACtHu"
      }
    },
    {
      "cell_type": "markdown",
      "source": [
        "## 課題1"
      ],
      "metadata": {
        "id": "OnkezWHRCwr9"
      }
    },
    {
      "cell_type": "markdown",
      "source": [
        "for文を使って、以下のように出力してください"
      ],
      "metadata": {
        "id": "q32rK-cECzCl"
      }
    },
    {
      "cell_type": "markdown",
      "source": [
        "![oSFeQoX.png](https://i.imgur.com/oSFeQoX.png)"
      ],
      "metadata": {
        "id": "FxMcxznVB6cI"
      }
    },
    {
      "cell_type": "code",
      "source": [
        "# 入力用\n",
        "for i in range(4):\n",
        "  print(\" \"*(3-i)+\"*\"*(i*2+1))"
      ],
      "metadata": {
        "id": "iBFSsrdRC5Zt",
        "colab": {
          "base_uri": "https://localhost:8080/"
        },
        "outputId": "51216d04-983c-403e-df76-c3ac507a0a7e"
      },
      "execution_count": 56,
      "outputs": [
        {
          "output_type": "stream",
          "name": "stdout",
          "text": [
            "   *\n",
            "  ***\n",
            " *****\n",
            "*******\n"
          ]
        }
      ]
    },
    {
      "cell_type": "markdown",
      "source": [
        "## 課題2"
      ],
      "metadata": {
        "id": "gIn-UqGTCagu"
      }
    },
    {
      "cell_type": "markdown",
      "source": [
        "課題1の場合を`n=4`として、nを自分で設定して出力できるようにしてください"
      ],
      "metadata": {
        "id": "ltdiEdqYDFy8"
      }
    },
    {
      "cell_type": "markdown",
      "source": [
        "＜例＞ n=5の場合  \n",
        "![o5NjugQ.png](https://imgur.com/o5NjugQ.png)"
      ],
      "metadata": {
        "id": "hw0FM8BRDHz1"
      }
    },
    {
      "cell_type": "code",
      "source": [
        "# 入力用\n",
        "n = int(input())\n",
        "for i in range(n):\n",
        "  print(\" \"*((n-1)-i)+\"*\"*(i*2+1))"
      ],
      "metadata": {
        "colab": {
          "base_uri": "https://localhost:8080/"
        },
        "outputId": "b9a8eaec-6743-46ad-c154-725fb9392e7a",
        "id": "WrVK7gc3Hkw8"
      },
      "execution_count": 55,
      "outputs": [
        {
          "output_type": "stream",
          "name": "stdout",
          "text": [
            "6\n",
            "     *\n",
            "    ***\n",
            "   *****\n",
            "  *******\n",
            " *********\n",
            "***********\n"
          ]
        }
      ]
    },
    {
      "cell_type": "markdown",
      "source": [
        "## 課題3"
      ],
      "metadata": {
        "id": "tLMJvwBDE7wT"
      }
    },
    {
      "cell_type": "markdown",
      "source": [
        "for文を使って、以下のように出力してください"
      ],
      "metadata": {
        "id": "vZNvWsG7E99q"
      }
    },
    {
      "cell_type": "markdown",
      "source": [
        "![oSirXec.png](https://imgur.com/oSirXec.png)"
      ],
      "metadata": {
        "id": "ijOV-ilXGDNR"
      }
    },
    {
      "cell_type": "code",
      "source": [
        "# 入力用\n",
        "for i in range(4):\n",
        "  print(\" \"*(3-i)+\"*\"*(i*2+1))\n",
        "\n",
        "for i in range(n):\n",
        "  print(\" \"*(i+1)+\"*\"*(5-i*2))"
      ],
      "metadata": {
        "colab": {
          "base_uri": "https://localhost:8080/"
        },
        "outputId": "a13de289-94f3-4f94-a069-71f6b8916143",
        "id": "feVOb6TCH-5r"
      },
      "execution_count": 54,
      "outputs": [
        {
          "output_type": "stream",
          "name": "stdout",
          "text": [
            "   *\n",
            "  ***\n",
            " *****\n",
            "*******\n",
            " *****\n",
            "  ***\n",
            "   *\n",
            "    \n",
            "     \n",
            "      \n",
            "       \n"
          ]
        }
      ]
    },
    {
      "cell_type": "markdown",
      "source": [
        "## 課題4"
      ],
      "metadata": {
        "id": "Oh7whOPkGQ3I"
      }
    },
    {
      "cell_type": "markdown",
      "source": [
        "課題3の場合を`n=4`として、nを自分で設定して出力できるようにしてください"
      ],
      "metadata": {
        "id": "PnvT8MQbGS03"
      }
    },
    {
      "cell_type": "markdown",
      "source": [
        "＜例＞ n=5の場合  \n",
        "\n",
        "![my4J17V.png](https://i.imgur.com/my4J17V.png)"
      ],
      "metadata": {
        "id": "ZujkAbVMGzhn"
      }
    },
    {
      "cell_type": "code",
      "source": [
        "# 入力用\n",
        "n = int(input())\n",
        "for i in range(n):\n",
        "  print(\" \"*(n-i)+\"*\"*(i*2+1))\n",
        "\n",
        "for i in range(n):\n",
        "  print(\" \"*(i+2)+\"*\"*((n-i)*2-3))"
      ],
      "metadata": {
        "colab": {
          "base_uri": "https://localhost:8080/"
        },
        "outputId": "3050b2b8-2aac-4859-a18f-e0881b45c659",
        "id": "D96YeZxsLJtR"
      },
      "execution_count": 53,
      "outputs": [
        {
          "output_type": "stream",
          "name": "stdout",
          "text": [
            "7\n",
            "       *\n",
            "      ***\n",
            "     *****\n",
            "    *******\n",
            "   *********\n",
            "  ***********\n",
            " *************\n",
            "  ***********\n",
            "   *********\n",
            "    *******\n",
            "     *****\n",
            "      ***\n",
            "       *\n",
            "        \n"
          ]
        }
      ]
    },
    {
      "cell_type": "markdown",
      "source": [
        "## 課題5"
      ],
      "metadata": {
        "id": "R2MvOK4wHJlK"
      }
    },
    {
      "cell_type": "markdown",
      "source": [
        "for文を使って、以下のように出力してください"
      ],
      "metadata": {
        "id": "ddMIUoaKHcwd"
      }
    },
    {
      "cell_type": "markdown",
      "source": [
        "![vDUi5eM.png](https://imgur.com/vDUi5eM.png)"
      ],
      "metadata": {
        "id": "CD1cVUlWHLVO"
      }
    },
    {
      "cell_type": "code",
      "source": [],
      "metadata": {
        "id": "4Pa8DmHBj_RO"
      },
      "execution_count": null,
      "outputs": []
    },
    {
      "cell_type": "code",
      "source": [
        "# 入力用\n",
        "for i in range(3):\n",
        "  print(\" \"*(3-i)+\"*\"*(i*2+1)+\" \"*(5-i*2)+\"*\"*(i*2+1))\n",
        "\n",
        "print(\"*\"*(4*2*2-(4-1)))\n",
        "\n",
        "for i in range(n):\n",
        "  print(\" \"*(i+1)+\"*\"*(5-i*2)+\" \"*(i*2+1)+\"*\"*(5-i*2))"
      ],
      "metadata": {
        "colab": {
          "base_uri": "https://localhost:8080/"
        },
        "outputId": "1ec8693e-36f6-4901-f825-bfd3cbd75ce3",
        "id": "kQCRt7LAlGU8"
      },
      "execution_count": 58,
      "outputs": [
        {
          "output_type": "stream",
          "name": "stdout",
          "text": [
            "   *     *\n",
            "  ***   ***\n",
            " ***** *****\n",
            "*************\n",
            " ***** *****\n",
            "  ***   ***\n",
            "   *     *\n",
            "           \n",
            "              \n",
            "                 \n"
          ]
        }
      ]
    },
    {
      "cell_type": "markdown",
      "source": [
        "## 課題6"
      ],
      "metadata": {
        "id": "oubbafOBHerl"
      }
    },
    {
      "cell_type": "markdown",
      "source": [
        "課題5の場合を`n=4`として、nを自分で設定して出力できるようにしてください"
      ],
      "metadata": {
        "id": "7SzgFdC-HzG9"
      }
    },
    {
      "cell_type": "markdown",
      "source": [
        "＜例＞ n=5の場合  \n",
        "\n",
        "![udkVlYG.png](https://imgur.com/udkVlYG.png)"
      ],
      "metadata": {
        "id": "LY8g9PVPH2OW"
      }
    },
    {
      "cell_type": "code",
      "source": [
        "# 入力用\n",
        "n = int(input())\n",
        "\n",
        "for i in range(n-1):\n",
        "  print(\" \"*(n-1-i)+\"*\"*(i*2+1)+\" \"*(n*2-3-i*2)+\"*\"*(i*2+1))\n",
        "\n",
        "print(\"*\"*(n*3+(n-3)))\n",
        "\n",
        "for i in range(n):\n",
        "  print(\" \"*(i+1)+\"*\"*((n*2-3)-i*2)+\" \"*(i*2+1)+\"*\"*((n*2-3)-i*2))"
      ],
      "metadata": {
        "colab": {
          "base_uri": "https://localhost:8080/"
        },
        "outputId": "f74ca215-f163-4392-acf6-ec1d5ee9332c",
        "id": "sWLnpEFbo5-u"
      },
      "execution_count": 78,
      "outputs": [
        {
          "output_type": "stream",
          "name": "stdout",
          "text": [
            "3\n",
            "  *   *\n",
            " *** ***\n",
            "*********\n",
            " *** ***\n",
            "  *   *\n",
            "        \n"
          ]
        }
      ]
    },
    {
      "cell_type": "markdown",
      "source": [
        "## 課題7"
      ],
      "metadata": {
        "id": "ouqTUmPQIKGF"
      }
    },
    {
      "cell_type": "markdown",
      "source": [
        "for文を使って、以下のように出力してください"
      ],
      "metadata": {
        "id": "WHSxdOHuIMRM"
      }
    },
    {
      "cell_type": "markdown",
      "source": [
        "![IuP0M16.png](https://imgur.com/IuP0M16.png)"
      ],
      "metadata": {
        "id": "-G--WFTkIM8s"
      }
    },
    {
      "cell_type": "code",
      "source": [
        "# 入力用\n",
        "for j in range(2):\n",
        "  for i in range(3):\n",
        "    print(\" \"*(3-i)+\"*\"*(i*2+1)+\" \"*(8-3-i*2)+\"*\"*(i*2+1))\n",
        "\n",
        "  print(\"*\"*(12+1))\n",
        "\n",
        "  for i in range(2):\n",
        "    print(\" \"*(i+1)+\"*\"*((8-3)-i*2)+\" \"*(i*2+1)+\"*\"*((8-3)-i*2))\n",
        "\n",
        "print(\" \"*(3)+\"*\"+\" \"*(8-3)+\"*\")"
      ],
      "metadata": {
        "colab": {
          "base_uri": "https://localhost:8080/"
        },
        "outputId": "e0b1ded0-d3af-4fc2-f341-ca53e20e9cdc",
        "id": "lY6SRLy_vRYN"
      },
      "execution_count": 84,
      "outputs": [
        {
          "output_type": "stream",
          "name": "stdout",
          "text": [
            "   *     *\n",
            "  ***   ***\n",
            " ***** *****\n",
            "*************\n",
            " ***** *****\n",
            "  ***   ***\n",
            "   *     *\n",
            "  ***   ***\n",
            " ***** *****\n",
            "*************\n",
            " ***** *****\n",
            "  ***   ***\n",
            "   *     *\n"
          ]
        }
      ]
    },
    {
      "cell_type": "markdown",
      "source": [
        "## 課題8"
      ],
      "metadata": {
        "id": "31u0ExX2IjWj"
      }
    },
    {
      "cell_type": "markdown",
      "source": [
        "課題7の場合を`n=4`として、nを自分で設定して出力できるようにしてください"
      ],
      "metadata": {
        "id": "zeOvmKarInpz"
      }
    },
    {
      "cell_type": "markdown",
      "source": [
        "＜例＞ n=5の場合  \n",
        "\n",
        "![AlTnu1k.png](https://imgur.com/AlTnu1k.png)"
      ],
      "metadata": {
        "id": "2uLR5sbKIov2"
      }
    },
    {
      "cell_type": "code",
      "source": [
        "# 入力用\n",
        "n = int(input())\n",
        "\n",
        "for j in range(2):\n",
        "  for i in range(n-1):\n",
        "    print(\" \"*(n-1-i)+\"*\"*(i*2+1)+\" \"*(n*2-3-i*2)+\"*\"*(i*2+1))\n",
        "\n",
        "  print(\"*\"*(n*3+(n-3)))\n",
        "\n",
        "  for i in range(n-2):\n",
        "    print(\" \"*(i+1)+\"*\"*((n*2-3)-i*2)+\" \"*(i*2+1)+\"*\"*((n*2-3)-i*2))\n",
        "\n",
        "print(\" \"*(n-1)+\"*\"+\" \"*(n*2-3)+\"*\")"
      ],
      "metadata": {
        "colab": {
          "base_uri": "https://localhost:8080/"
        },
        "outputId": "9e933b30-1911-48cb-a9fa-55ce4c9f8921",
        "id": "efFhKbQMwPiQ"
      },
      "execution_count": null,
      "outputs": [
        {
          "output_type": "stream",
          "name": "stdout",
          "text": [
            "6\n",
            "     *         *\n",
            "    ***       ***\n",
            "   *****     *****\n",
            "  *******   *******\n",
            " ********* *********\n",
            "*********************\n",
            " ********* *********\n",
            "  *******   *******\n",
            "   *****     *****\n",
            "    ***       ***\n",
            "     *         *\n",
            "    ***       ***\n",
            "   *****     *****\n",
            "  *******   *******\n",
            " ********* *********\n",
            "*********************\n",
            " ********* *********\n",
            "  *******   *******\n",
            "   *****     *****\n",
            "    ***       ***\n",
            "     *         *\n"
          ]
        }
      ]
    }
  ]
}